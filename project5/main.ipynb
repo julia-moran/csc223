{
 "cells": [
  {
   "cell_type": "markdown",
   "id": "f1e4c871",
   "metadata": {},
   "source": [
    "* Author: Julia Moran\n",
    "* Major: Computer Science\n",
    "* Creation Date: April 15, 2022\n",
    "* Due Date: April 22, 2022\n",
    "* Course: CSC223\n",
    "* Professor Name: Prof. Earl\n",
    "* Assignment: 5\n",
    "* Filename: main.ipynb\n",
    "* Purpose: This notebook reads in a csv file of data from IMDB about movies and plots the normalized distribution of the movies' ratings as a histogram and bell curve. It also will plot the top ten movies' amounts of votes as a bar graph."
   ]
  },
  {
   "cell_type": "code",
   "execution_count": 2,
   "id": "942f8b2f",
   "metadata": {},
   "outputs": [],
   "source": [
    "%matplotlib inline\n",
    "\n",
    "# STUDENT TODO: Write statements to import numpy, pandas, & matplotlib.pyplot\n",
    "# following conventions. \n",
    "import numpy as np\n",
    "import pandas as pd\n",
    "import matplotlib.pyplot as plt"
   ]
  },
  {
   "cell_type": "code",
   "execution_count": 3,
   "id": "6d9173bc",
   "metadata": {
    "scrolled": true
   },
   "outputs": [
    {
     "data": {
      "text/html": [
       "<div>\n",
       "<style scoped>\n",
       "    .dataframe tbody tr th:only-of-type {\n",
       "        vertical-align: middle;\n",
       "    }\n",
       "\n",
       "    .dataframe tbody tr th {\n",
       "        vertical-align: top;\n",
       "    }\n",
       "\n",
       "    .dataframe thead th {\n",
       "        text-align: right;\n",
       "    }\n",
       "</style>\n",
       "<table border=\"1\" class=\"dataframe\">\n",
       "  <thead>\n",
       "    <tr style=\"text-align: right;\">\n",
       "      <th></th>\n",
       "      <th>title</th>\n",
       "      <th>year</th>\n",
       "      <th>length</th>\n",
       "      <th>budget</th>\n",
       "      <th>rating</th>\n",
       "      <th>votes</th>\n",
       "      <th>r1</th>\n",
       "      <th>r2</th>\n",
       "      <th>r3</th>\n",
       "      <th>r4</th>\n",
       "      <th>...</th>\n",
       "      <th>r9</th>\n",
       "      <th>r10</th>\n",
       "      <th>mpaa</th>\n",
       "      <th>Action</th>\n",
       "      <th>Animation</th>\n",
       "      <th>Comedy</th>\n",
       "      <th>Drama</th>\n",
       "      <th>Documentary</th>\n",
       "      <th>Romance</th>\n",
       "      <th>Short</th>\n",
       "    </tr>\n",
       "  </thead>\n",
       "  <tbody>\n",
       "    <tr>\n",
       "      <th>1</th>\n",
       "      <td>$</td>\n",
       "      <td>1971</td>\n",
       "      <td>121</td>\n",
       "      <td>NaN</td>\n",
       "      <td>6.4</td>\n",
       "      <td>348</td>\n",
       "      <td>4.5</td>\n",
       "      <td>4.5</td>\n",
       "      <td>4.5</td>\n",
       "      <td>4.5</td>\n",
       "      <td>...</td>\n",
       "      <td>4.5</td>\n",
       "      <td>4.5</td>\n",
       "      <td>NaN</td>\n",
       "      <td>0</td>\n",
       "      <td>0</td>\n",
       "      <td>1</td>\n",
       "      <td>1</td>\n",
       "      <td>0</td>\n",
       "      <td>0</td>\n",
       "      <td>0</td>\n",
       "    </tr>\n",
       "    <tr>\n",
       "      <th>2</th>\n",
       "      <td>$1000 a Touchdown</td>\n",
       "      <td>1939</td>\n",
       "      <td>71</td>\n",
       "      <td>NaN</td>\n",
       "      <td>6.0</td>\n",
       "      <td>20</td>\n",
       "      <td>0.0</td>\n",
       "      <td>14.5</td>\n",
       "      <td>4.5</td>\n",
       "      <td>24.5</td>\n",
       "      <td>...</td>\n",
       "      <td>4.5</td>\n",
       "      <td>14.5</td>\n",
       "      <td>NaN</td>\n",
       "      <td>0</td>\n",
       "      <td>0</td>\n",
       "      <td>1</td>\n",
       "      <td>0</td>\n",
       "      <td>0</td>\n",
       "      <td>0</td>\n",
       "      <td>0</td>\n",
       "    </tr>\n",
       "    <tr>\n",
       "      <th>3</th>\n",
       "      <td>$21 a Day Once a Month</td>\n",
       "      <td>1941</td>\n",
       "      <td>7</td>\n",
       "      <td>NaN</td>\n",
       "      <td>8.2</td>\n",
       "      <td>5</td>\n",
       "      <td>0.0</td>\n",
       "      <td>0.0</td>\n",
       "      <td>0.0</td>\n",
       "      <td>0.0</td>\n",
       "      <td>...</td>\n",
       "      <td>24.5</td>\n",
       "      <td>24.5</td>\n",
       "      <td>NaN</td>\n",
       "      <td>0</td>\n",
       "      <td>1</td>\n",
       "      <td>0</td>\n",
       "      <td>0</td>\n",
       "      <td>0</td>\n",
       "      <td>0</td>\n",
       "      <td>1</td>\n",
       "    </tr>\n",
       "    <tr>\n",
       "      <th>4</th>\n",
       "      <td>$40,000</td>\n",
       "      <td>1996</td>\n",
       "      <td>70</td>\n",
       "      <td>NaN</td>\n",
       "      <td>8.2</td>\n",
       "      <td>6</td>\n",
       "      <td>14.5</td>\n",
       "      <td>0.0</td>\n",
       "      <td>0.0</td>\n",
       "      <td>0.0</td>\n",
       "      <td>...</td>\n",
       "      <td>34.5</td>\n",
       "      <td>45.5</td>\n",
       "      <td>NaN</td>\n",
       "      <td>0</td>\n",
       "      <td>0</td>\n",
       "      <td>1</td>\n",
       "      <td>0</td>\n",
       "      <td>0</td>\n",
       "      <td>0</td>\n",
       "      <td>0</td>\n",
       "    </tr>\n",
       "    <tr>\n",
       "      <th>5</th>\n",
       "      <td>$50,000 Climax Show, The</td>\n",
       "      <td>1975</td>\n",
       "      <td>71</td>\n",
       "      <td>NaN</td>\n",
       "      <td>3.4</td>\n",
       "      <td>17</td>\n",
       "      <td>24.5</td>\n",
       "      <td>4.5</td>\n",
       "      <td>0.0</td>\n",
       "      <td>14.5</td>\n",
       "      <td>...</td>\n",
       "      <td>0.0</td>\n",
       "      <td>24.5</td>\n",
       "      <td>NaN</td>\n",
       "      <td>0</td>\n",
       "      <td>0</td>\n",
       "      <td>0</td>\n",
       "      <td>0</td>\n",
       "      <td>0</td>\n",
       "      <td>0</td>\n",
       "      <td>0</td>\n",
       "    </tr>\n",
       "  </tbody>\n",
       "</table>\n",
       "<p>5 rows × 24 columns</p>\n",
       "</div>"
      ],
      "text/plain": [
       "                      title  year  length  budget  rating  votes    r1    r2  \\\n",
       "1                         $  1971     121     NaN     6.4    348   4.5   4.5   \n",
       "2         $1000 a Touchdown  1939      71     NaN     6.0     20   0.0  14.5   \n",
       "3    $21 a Day Once a Month  1941       7     NaN     8.2      5   0.0   0.0   \n",
       "4                   $40,000  1996      70     NaN     8.2      6  14.5   0.0   \n",
       "5  $50,000 Climax Show, The  1975      71     NaN     3.4     17  24.5   4.5   \n",
       "\n",
       "    r3    r4  ...    r9   r10  mpaa  Action  Animation  Comedy Drama  \\\n",
       "1  4.5   4.5  ...   4.5   4.5   NaN       0          0       1     1   \n",
       "2  4.5  24.5  ...   4.5  14.5   NaN       0          0       1     0   \n",
       "3  0.0   0.0  ...  24.5  24.5   NaN       0          1       0     0   \n",
       "4  0.0   0.0  ...  34.5  45.5   NaN       0          0       1     0   \n",
       "5  0.0  14.5  ...   0.0  24.5   NaN       0          0       0     0   \n",
       "\n",
       "   Documentary  Romance  Short  \n",
       "1            0        0      0  \n",
       "2            0        0      0  \n",
       "3            0        0      1  \n",
       "4            0        0      0  \n",
       "5            0        0      0  \n",
       "\n",
       "[5 rows x 24 columns]"
      ]
     },
     "execution_count": 3,
     "metadata": {},
     "output_type": "execute_result"
    }
   ],
   "source": [
    "# STUDENT: Do not modify the code in this cell. \n",
    "\n",
    "def norm_dist(x, mean, std):\n",
    "    '''\n",
    "        Use this function to calculate a normal distribution\n",
    "        \n",
    "        Parameters:\n",
    "            x - 1D Array of Distribution\n",
    "            mean - The mean of the dataset\n",
    "            std - The standard deviation of the dataset\n",
    "            \n",
    "        Return:\n",
    "            A numpy array\n",
    "    '''\n",
    "    from scipy.stats import norm\n",
    "    return norm.pdf(x, mean, std)\n",
    "    \n",
    "\n",
    "# Import the dataset\n",
    "movies = pd.read_csv('https://faculty.kutztown.edu/earl/teaching/2021-2022/223-adv-sci-program/hw/materials/movies.csv', index_col=0)\n",
    "movies.head()"
   ]
  },
  {
   "cell_type": "code",
   "execution_count": 4,
   "id": "1e951775",
   "metadata": {},
   "outputs": [],
   "source": [
    "#TUDENT TODO: Code for Figure 1\n",
    "    \n",
    "#Calculate the mean and standard and deviation of the ratings\n",
    "mean = movies['rating'].mean()\n",
    "standardDeviation = movies['rating'].std()"
   ]
  },
  {
   "cell_type": "code",
   "execution_count": 5,
   "id": "185d0e99",
   "metadata": {},
   "outputs": [],
   "source": [
    "#Set the x and y values for the bell curve by using the normal distribution formula\n",
    "x = np.linspace(0, 11)\n",
    "y = norm_dist(x, mean, standardDeviation)"
   ]
  },
  {
   "cell_type": "code",
   "execution_count": 6,
   "id": "b91e62d8",
   "metadata": {},
   "outputs": [
    {
     "data": {
      "text/plain": [
       "<matplotlib.legend.Legend at 0x224942b9070>"
      ]
     },
     "execution_count": 6,
     "metadata": {},
     "output_type": "execute_result"
    },
    {
     "data": {
      "image/png": "[encoded data removed]",
      "text/plain": [
       "<Figure size 432x288 with 1 Axes>"
      ]
     },
     "metadata": {
      "needs_background": "light"
     },
     "output_type": "display_data"
    }
   ],
   "source": [
    "#Plot the histogram of the ratings\n",
    "plt.hist(movies['rating'], bins = 10, density = True, label = \"Histogram\")\n",
    "\n",
    "#Plot the normal distribution of the ratings\n",
    "plt.plot(x, y, color = 'red', label = \"Normal Distribution\")\n",
    "\n",
    "#Plot the labels, title, and legend of the figure\n",
    "plt.xlabel(\"Rating\")\n",
    "plt.ylabel(\"Percent of Movies\")\n",
    "plt.title(\"Normalized Distribution of Movies by Rating\")\n",
    "plt.legend()"
   ]
  },
  {
   "cell_type": "code",
   "execution_count": 7,
   "id": "9564e36a",
   "metadata": {},
   "outputs": [],
   "source": [
    "# STUDENT TODO: Code for Figure 2\n",
    "\n",
    "#Initialize the arrays for the top ten movie titles and vote counts\n",
    "topNames = np.array([])\n",
    "topVotes = np.array([])"
   ]
  },
  {
   "cell_type": "code",
   "execution_count": 8,
   "id": "346cc666",
   "metadata": {},
   "outputs": [],
   "source": [
    "#Get the titles and number of votes for the top ten highest voted movies\n",
    "for i in range(10):\n",
    "    #Get the movie with the current highest votes\n",
    "    maximum = movies['votes'].max()\n",
    "    topMovies = movies[movies['votes'] == maximum]\n",
    "    \n",
    "    #Get the index of the movie with the current highest votes\n",
    "    topIndices = list(movies.index[movies['votes'] == maximum])\n",
    "    \n",
    "    #Add the movie with the highest amount of votes to the arrays for the top ten movie titles and vote counts \n",
    "    topNames = np.append(topNames, topMovies['title'])\n",
    "    topVotes = np.append(topVotes, topMovies['votes'])\n",
    "\n",
    "    #Add the titles to a new series with the index as the number of votes each movie has\n",
    "    topTen = pd.Series(topNames, index = topVotes)\n",
    "    \n",
    "    #Remove the movie with the highest amount of votes from the data frame\n",
    "    movies = movies.drop(labels = topIndices, axis = 0)"
   ]
  },
  {
   "cell_type": "code",
   "execution_count": 9,
   "id": "e1fcd626",
   "metadata": {},
   "outputs": [
    {
     "data": {
      "text/plain": [
       "Text(0.5, 1.0, 'Top Ten Movies by Votes')"
      ]
     },
     "execution_count": 9,
     "metadata": {},
     "output_type": "execute_result"
    },
    {
     "data": {
      "image/png": "[encoded data removed]",
      "text/plain": [
       "<Figure size 432x288 with 1 Axes>"
      ]
     },
     "metadata": {
      "needs_background": "light"
     },
     "output_type": "display_data"
    }
   ],
   "source": [
    "#Reverse the order of the new series so that the highest voted movie is at the top of the bar graph\n",
    "topTen = topTen.iloc[::-1]\n",
    "\n",
    "#Plot the titles and votes of the top ten movies in the dataframe\n",
    "plt.barh(topTen.values, topTen.index)\n",
    "\n",
    "#Plot the labels and title of the bar graph\n",
    "plt.xlabel('Votes')\n",
    "plt.ylabel('Movie Titles')\n",
    "plt.title('Top Ten Movies by Votes')"
   ]
  },
  {
   "cell_type": "code",
   "execution_count": null,
   "id": "6e966ef4",
   "metadata": {},
   "outputs": [],
   "source": []
  }
 ],
 "metadata": {
  "kernelspec": {
   "display_name": "Python 3 (ipykernel)",
   "language": "python",
   "name": "python3"
  },
  "language_info": {
   "codemirror_mode": {
    "name": "ipython",
    "version": 3
   },
   "file_extension": ".py",
   "mimetype": "text/x-python",
   "name": "python",
   "nbconvert_exporter": "python",
   "pygments_lexer": "ipython3",
   "version": "3.9.7"
  }
 },
 "nbformat": 4,
 "nbformat_minor": 5
}
