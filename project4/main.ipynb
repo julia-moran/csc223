{
 "cells": [
  {
   "cell_type": "markdown",
   "id": "677af8c4",
   "metadata": {},
   "source": [
    "* Author: Julia Moran\n",
    "* Major: Computer Science\n",
    "* Creation Date: March 27, 2022\n",
    "* Due Date: April 8, 2022\n",
    "* Course: CSC223\n",
    "* Professor Name: Prof. Earl\n",
    "* Assignment: 4\n",
    "* Filename: main.ipynb\n",
    "* Purpose: This notebook reads in a csv file of data about how far a toy car has traveled and creates a new dataframe in which it is sorted by angle, the distance is in milimeters, there are individual columns for each car, and there is a column for the mean of each angle and a column for the standard deviation of each angle.          "
   ]
  },
  {
   "cell_type": "code",
   "execution_count": 11,
   "id": "6703ce98",
   "metadata": {},
   "outputs": [],
   "source": [
    "import csv\n",
    "import numpy as np\n",
    "import pandas as pd"
   ]
  },
  {
   "cell_type": "code",
   "execution_count": 12,
   "id": "b8b4f46d",
   "metadata": {},
   "outputs": [],
   "source": [
    "#Read the CSV file\n",
    "cars = pd.read_csv(\"toycars.csv\")"
   ]
  },
  {
   "cell_type": "code",
   "execution_count": 13,
   "id": "8e9e643d",
   "metadata": {},
   "outputs": [],
   "source": [
    "#Set the angle of the ramp as the index\n",
    "cars = cars.set_index(\"angle\")"
   ]
  },
  {
   "cell_type": "code",
   "execution_count": 14,
   "id": "998a832b",
   "metadata": {},
   "outputs": [],
   "source": [
    "#Sort the cars by their index\n",
    "cars= cars.sort_index()"
   ]
  },
  {
   "cell_type": "code",
   "execution_count": 15,
   "id": "f6421b15",
   "metadata": {},
   "outputs": [],
   "source": [
    "#Convert the distance to millimeters\n",
    "cars[\"distance\"] = cars[\"distance\"] * 1000"
   ]
  },
  {
   "cell_type": "code",
   "execution_count": 16,
   "id": "796a7fd9",
   "metadata": {},
   "outputs": [],
   "source": [
    "#Delete the extra column\n",
    "del cars[\"Unnamed: 0\"]"
   ]
  },
  {
   "cell_type": "code",
   "execution_count": 17,
   "id": "50bff9e3",
   "metadata": {
    "scrolled": true
   },
   "outputs": [],
   "source": [
    "#Put the car data into a new dataframe where cars 1, 2, and 3 are the columns\n",
    "car1 = pd.Series(cars[cars[\"car\"] == 1][\"distance\"])\n",
    "car2 = pd.Series(cars[cars[\"car\"] == 2][\"distance\"])\n",
    "car3 = pd.Series(cars[cars[\"car\"] == 3][\"distance\"])\n",
    "\n",
    "carsByColumn = pd.DataFrame({\"Car 1\": car1, \"Car 2\": car2, \"Car 3\": car3}, index = set(cars.index))"
   ]
  },
  {
   "cell_type": "code",
   "execution_count": 18,
   "id": "9eb5ba57",
   "metadata": {},
   "outputs": [],
   "source": [
    "#Sort the new dataframe by the index\n",
    "carsByColumn = carsByColumn.sort_index()"
   ]
  },
  {
   "cell_type": "code",
   "execution_count": 19,
   "id": "fc90ea8a",
   "metadata": {
    "scrolled": true
   },
   "outputs": [],
   "source": [
    "#Add a new column with the means of each angle's data\n",
    "averages = carsByColumn[[\"Car 1\", \"Car 2\", \"Car 3\"]].mean(axis = 1)\n",
    "carsByColumn[\"Mean\"] = averages"
   ]
  },
  {
   "cell_type": "code",
   "execution_count": 20,
   "id": "9be72d01",
   "metadata": {},
   "outputs": [
    {
     "data": {
      "text/html": [
       "<div>\n",
       "<style scoped>\n",
       "    .dataframe tbody tr th:only-of-type {\n",
       "        vertical-align: middle;\n",
       "    }\n",
       "\n",
       "    .dataframe tbody tr th {\n",
       "        vertical-align: top;\n",
       "    }\n",
       "\n",
       "    .dataframe thead th {\n",
       "        text-align: right;\n",
       "    }\n",
       "</style>\n",
       "<table border=\"1\" class=\"dataframe\">\n",
       "  <thead>\n",
       "    <tr style=\"text-align: right;\">\n",
       "      <th></th>\n",
       "      <th>Car 1</th>\n",
       "      <th>Car 2</th>\n",
       "      <th>Car 3</th>\n",
       "      <th>Mean</th>\n",
       "      <th>Standard Deviation</th>\n",
       "    </tr>\n",
       "  </thead>\n",
       "  <tbody>\n",
       "    <tr>\n",
       "      <th>0.9</th>\n",
       "      <td>270.0</td>\n",
       "      <td>380.0</td>\n",
       "      <td>150.0</td>\n",
       "      <td>266.666667</td>\n",
       "      <td>115.036226</td>\n",
       "    </tr>\n",
       "    <tr>\n",
       "      <th>1.1</th>\n",
       "      <td>290.0</td>\n",
       "      <td>430.0</td>\n",
       "      <td>170.0</td>\n",
       "      <td>296.666667</td>\n",
       "      <td>130.128142</td>\n",
       "    </tr>\n",
       "    <tr>\n",
       "      <th>1.3</th>\n",
       "      <td>430.0</td>\n",
       "      <td>370.0</td>\n",
       "      <td>270.0</td>\n",
       "      <td>356.666667</td>\n",
       "      <td>80.829038</td>\n",
       "    </tr>\n",
       "    <tr>\n",
       "      <th>2.2</th>\n",
       "      <td>580.0</td>\n",
       "      <td>700.0</td>\n",
       "      <td>540.0</td>\n",
       "      <td>606.666667</td>\n",
       "      <td>83.266640</td>\n",
       "    </tr>\n",
       "    <tr>\n",
       "      <th>2.7</th>\n",
       "      <td>580.0</td>\n",
       "      <td>640.0</td>\n",
       "      <td>550.0</td>\n",
       "      <td>590.000000</td>\n",
       "      <td>45.825757</td>\n",
       "    </tr>\n",
       "    <tr>\n",
       "      <th>3.1</th>\n",
       "      <td>630.0</td>\n",
       "      <td>690.0</td>\n",
       "      <td>600.0</td>\n",
       "      <td>640.000000</td>\n",
       "      <td>45.825757</td>\n",
       "    </tr>\n",
       "    <tr>\n",
       "      <th>3.6</th>\n",
       "      <td>700.0</td>\n",
       "      <td>890.0</td>\n",
       "      <td>660.0</td>\n",
       "      <td>750.000000</td>\n",
       "      <td>122.882057</td>\n",
       "    </tr>\n",
       "    <tr>\n",
       "      <th>4.0</th>\n",
       "      <td>840.0</td>\n",
       "      <td>920.0</td>\n",
       "      <td>690.0</td>\n",
       "      <td>816.666667</td>\n",
       "      <td>116.761866</td>\n",
       "    </tr>\n",
       "    <tr>\n",
       "      <th>4.9</th>\n",
       "      <td>1000.0</td>\n",
       "      <td>1300.0</td>\n",
       "      <td>950.0</td>\n",
       "      <td>1083.333333</td>\n",
       "      <td>189.296945</td>\n",
       "    </tr>\n",
       "  </tbody>\n",
       "</table>\n",
       "</div>"
      ],
      "text/plain": [
       "      Car 1   Car 2  Car 3         Mean  Standard Deviation\n",
       "0.9   270.0   380.0  150.0   266.666667          115.036226\n",
       "1.1   290.0   430.0  170.0   296.666667          130.128142\n",
       "1.3   430.0   370.0  270.0   356.666667           80.829038\n",
       "2.2   580.0   700.0  540.0   606.666667           83.266640\n",
       "2.7   580.0   640.0  550.0   590.000000           45.825757\n",
       "3.1   630.0   690.0  600.0   640.000000           45.825757\n",
       "3.6   700.0   890.0  660.0   750.000000          122.882057\n",
       "4.0   840.0   920.0  690.0   816.666667          116.761866\n",
       "4.9  1000.0  1300.0  950.0  1083.333333          189.296945"
      ]
     },
     "execution_count": 20,
     "metadata": {},
     "output_type": "execute_result"
    }
   ],
   "source": [
    "#Add a new column with the standard deviations of each angle's data\n",
    "standardDeviation = carsByColumn[[\"Car 1\", \"Car 2\", \"Car 3\"]].std(axis = 1)\n",
    "carsByColumn[\"Standard Deviation\"] = standardDeviation\n",
    "\n",
    "#Output the modified dataframe\n",
    "carsByColumn"
   ]
  }
 ],
 "metadata": {
  "kernelspec": {
   "display_name": "Python 3 (ipykernel)",
   "language": "python",
   "name": "python3"
  },
  "language_info": {
   "codemirror_mode": {
    "name": "ipython",
    "version": 3
   },
   "file_extension": ".py",
   "mimetype": "text/x-python",
   "name": "python",
   "nbconvert_exporter": "python",
   "pygments_lexer": "ipython3",
   "version": "3.9.7"
  }
 },
 "nbformat": 4,
 "nbformat_minor": 5
}
